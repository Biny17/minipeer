{
 "cells": [
  {
   "cell_type": "markdown",
   "id": "60db56ea",
   "metadata": {
    "slideshow": {
     "slide_type": "slide"
    }
   },
   "source": [
    "## 🤔 C'est quoi la tokenization ?\n",
    "\n",
    "La tokenization, ou lexing, est le processus de décomposition d'une chaîne de caractères (comme du code source) en unités significatives appelées \"tokens\". Chaque token représente un élément syntaxique de la langue, comme un mot-clé, un identifiant, un opérateur, un séparateur..."
   ]
  },
  {
   "cell_type": "markdown",
   "id": "57a2708a",
   "metadata": {
    "vscode": {
     "languageId": "plaintext"
    }
   },
   "source": [
    "```c\n",
    "typedef enum type\n",
    "{\n",
    "\tINVALID = 0, // pratique\n",
    "\tWORD, // ls\n",
    "\tPIPE, // '|'\n",
    "\tREDIN, // < input.txt\n",
    "\tHEREDOC, // << DELIMITER\n",
    "\tREDOUT, // > output.txt\n",
    "\tAPPEN, // >> output.txt\n",
    "\tEND\n",
    "}\tt_type;\n",
    "```"
   ]
  },
  {
   "cell_type": "markdown",
   "id": "03f31111",
   "metadata": {},
   "source": [
    "```c\n",
    "typedef struct s_token \n",
    "{\n",
    "  char  *word;   // le texte du token\n",
    "  int   type; // son type\n",
    "}   t_token;\n",
    "```"
   ]
  },
  {
   "cell_type": "markdown",
   "id": "ee6564df",
   "metadata": {},
   "source": [
    "### 🛑 Quand est ce qu'un token se termine ?"
   ]
  },
  {
   "cell_type": "markdown",
   "id": "8aaf1657",
   "metadata": {},
   "source": [
    "### 🛑 Quand est ce qu'un token se termine ?\n",
    "\n",
    "1. Un espace ou tab hors quote\n",
    "```c\n",
    "if (is_space(current) && !quote)\n",
    "```\n",
    "2. Un symbol hors quote '<<' '<' '>' '|' '>>' \n",
    "```c\n",
    "if (is_symbol(current) && !quote)\n",
    "```\n",
    "3. Fin de la chaîne de charactère"
   ]
  },
  {
   "cell_type": "markdown",
   "id": "a26f3f2c",
   "metadata": {},
   "source": [
    "## ⛵ Structure d'une commande \n",
    "\n",
    "Exemple d'une commande valide:\n",
    "\n",
    "```bash\n",
    ">output.txt<     input_a.txt cat<input_b.txt\n",
    "# équivalent à\n",
    "<input_a.txt <input_b.txt cat >output.txt\n",
    "```"
   ]
  },
  {
   "cell_type": "markdown",
   "id": "e8cfb528",
   "metadata": {},
   "source": [
    "### Les redirections\n",
    "\n",
    "1. Un redirect peut-être avant ou après ou au milieu de la commande\n",
    "2. Si il y a plusieurs redirections la dernière (la plus à droite) est utilisée"
   ]
  },
  {
   "cell_type": "markdown",
   "id": "92f2c520",
   "metadata": {},
   "source": [
    "## ENV\n",
    "\n",
    "```\n",
    "man environ\n",
    "```\n",
    "L'environnement (env) est un ensemble de variables et de configurations qui définissent le contexte dans lequel un programme s'exécute.  \n",
    "Il peut inclure des informations comme les chemins d'accès aux bibliothèques, les paramètres de configuration, les variables d'environnement système, etc."
   ]
  },
  {
   "cell_type": "markdown",
   "id": "50fbebdf",
   "metadata": {},
   "source": [
    "> ajouter un exemple d'env"
   ]
  },
  {
   "cell_type": "markdown",
   "id": "bb146459",
   "metadata": {},
   "source": [
    "## Récuperer l'env\n",
    "\n",
    "```c\n",
    "// soit dans la définition du main\n",
    "int main(int argc, char **argv, char **env);\n",
    "// soit #include <unistd.h> pour avoir __environ\n",
    "#include <unistd.h>\n",
    "printf(\"%s\\n\", __environ[0]);\n",
    "```"
   ]
  },
  {
   "cell_type": "markdown",
   "id": "efd6b9ae",
   "metadata": {},
   "source": []
  }
 ],
 "metadata": {
  "kernelspec": {
   "display_name": "Fun",
   "language": "python",
   "name": "python3"
  },
  "language_info": {
   "codemirror_mode": {
    "name": "ipython",
    "version": 3
   },
   "file_extension": ".py",
   "mimetype": "text/x-python",
   "name": "python",
   "nbconvert_exporter": "python",
   "pygments_lexer": "ipython3",
   "version": "3.12.2"
  }
 },
 "nbformat": 4,
 "nbformat_minor": 5
}
