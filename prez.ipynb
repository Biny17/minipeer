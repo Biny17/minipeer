{
 "cells": [
  {
   "cell_type": "markdown",
   "id": "a26f3f2c",
   "metadata": {
    "slideshow": {
     "slide_type": "slide"
    }
   },
   "source": [
    "## ⛵ Structure d'une commande \n",
    "\n",
    "```bash\n",
    "grep 'w' \"$HOME/.bashrc\" | sort >> \"$PWD/test.log\"\n",
    "```\n",
    "<div style=\"font-size: 20px;\">  \n",
    "\n",
    "Dans une commande:\n",
    "- Les types de redirections:\n",
    "    - '\\>' : rediriger la sortie standard et écraser le fichier\n",
    "    - '\\>>' : rediriger la sortie standard et ajouter à la fin du fichier\n",
    "    - '<' : rediriger l'entrée standard à un fichier\n",
    "    - '<<' : saisir plusieurs lignes jusqu'au DELIMITER \n",
    "- **0 ou plusieurs** redirections de tout type\n",
    "- **0 ou plusieurs** executable et arguments\n",
    "- **0 ou plusieurs** pipe\n",
    "- opérateurs logique (bonus)\n",
    "- wildcards (bonus)\n",
    "- parenthèses (bonus)\n",
    "\n",
    "</div>"
   ]
  },
  {
   "cell_type": "markdown",
   "id": "b83b1155",
   "metadata": {
    "slideshow": {
     "slide_type": "slide"
    }
   },
   "source": [
    "# 🥳 QUIZZ SURPRISE !\n",
    "\n",
    "## Valide ou non / Combien d'args ?? 🤔"
   ]
  },
  {
   "cell_type": "markdown",
   "id": "415ae9d6",
   "metadata": {
    "slideshow": {
     "slide_type": "slide"
    }
   },
   "source": [
    "# Valide ou non ?? 🤔\n",
    "\n",
    "<img src=\"captures/hard_cmd.png\" style=\"width: 160%;\">\n"
   ]
  },
  {
   "cell_type": "markdown",
   "id": "db85be55",
   "metadata": {
    "slideshow": {
     "slide_type": "slide"
    }
   },
   "source": [
    "# OUI !\n",
    "\n",
    "<img src=\"captures/hard_cmd_simple.png\" style=\"width: 140%;\">"
   ]
  },
  {
   "cell_type": "markdown",
   "id": "b9850284",
   "metadata": {
    "slideshow": {
     "slide_type": "slide"
    }
   },
   "source": [
    "# Valide ou non ?? 🤔\n",
    "\n",
    "<img src=\"captures/empty_red.png\" style=\"width: 140%;\">\n"
   ]
  },
  {
   "cell_type": "markdown",
   "id": "4d415eec",
   "metadata": {
    "slideshow": {
     "slide_type": "slide"
    }
   },
   "source": [
    "# NON 💀\n",
    "\n",
    "<img src=\"captures/empty_red_ans.png\" style=\"width: 140%;\">\n"
   ]
  },
  {
   "cell_type": "markdown",
   "id": "9c977b84",
   "metadata": {
    "slideshow": {
     "slide_type": "slide"
    }
   },
   "source": [
    "# Valide ou non ?? 🤔\n",
    "\n",
    "<div style=\"font-size: 28px;\">  \n",
    "\n",
    "```bash\n",
    "$ <    input_a.txt>   output\n",
    "```\n",
    "</div>"
   ]
  },
  {
   "cell_type": "markdown",
   "id": "db9c5cd7",
   "metadata": {
    "slideshow": {
     "slide_type": "slide"
    }
   },
   "source": [
    "## OUI !\n",
    "\n",
    "<img src=\"captures/spaces.png\" style=\"width: 140%;\">\n"
   ]
  },
  {
   "cell_type": "markdown",
   "id": "84738ef4",
   "metadata": {
    "slideshow": {
     "slide_type": "slide"
    }
   },
   "source": [
    "# Valide ou non ?? 🤔\n",
    "\n",
    "<div style=\"font-size: 28px;\">  \n",
    "\n",
    "```bash\n",
    "cat <input_a.txt -n\n",
    "```\n",
    "\n",
    "</div>"
   ]
  },
  {
   "cell_type": "markdown",
   "id": "78efb28d",
   "metadata": {
    "slideshow": {
     "slide_type": "slide"
    }
   },
   "source": [
    "# OUI ! 👍\n",
    "\n",
    "<img src=\"captures/middle_red.png\" style=\"width: 140%;\">\n"
   ]
  },
  {
   "cell_type": "markdown",
   "id": "0825a95c",
   "metadata": {
    "slideshow": {
     "slide_type": "slide"
    }
   },
   "source": [
    "# 1, 2, 3 ou 4 arguments ?? 🤔\n",
    "\n",
    "<div style=\"font-size: 28px;\">  \n",
    "\n",
    "```bash\n",
    "./a.out \"la vie est belle\"\n",
    "```\n",
    "\n",
    "</div>"
   ]
  },
  {
   "cell_type": "markdown",
   "id": "27b9d9d2",
   "metadata": {
    "slideshow": {
     "slide_type": "slide"
    }
   },
   "source": [
    "# 1 seul !\n",
    "\n",
    "<img src=\"captures/quoted.png\" style=\"width: 140%;\">\n"
   ]
  },
  {
   "cell_type": "markdown",
   "id": "52209d80",
   "metadata": {
    "slideshow": {
     "slide_type": "slide"
    }
   },
   "source": [
    "# 1, 2, 3 ou 4 arguments ?? 🤔\n",
    "\n",
    "<div style=\"font-size: 28px;\">  \n",
    "\n",
    "```bash\n",
    "./a.out la vie est belle\n",
    "```\n",
    "\n",
    "</div>"
   ]
  },
  {
   "cell_type": "markdown",
   "id": "b1b42e9a",
   "metadata": {
    "slideshow": {
     "slide_type": "slide"
    }
   },
   "source": [
    "# Il y en aura 4 !!\n",
    "\n",
    "<img src=\"captures/beautiful.png\" style=\"width: 90%;\">\n"
   ]
  },
  {
   "cell_type": "markdown",
   "id": "d520aa0d",
   "metadata": {
    "slideshow": {
     "slide_type": "slide"
    }
   },
   "source": [
    "# 1, 2, 3 ou 4 arguments ?? 🤔\n",
    "\n",
    "<div style=\"font-size: 34px;\">  \n",
    "\n",
    "```bash\n",
    "./a.out hell'o w'orld\n",
    "```\n",
    "\n",
    "</div>"
   ]
  },
  {
   "cell_type": "markdown",
   "id": "98130e80",
   "metadata": {
    "slideshow": {
     "slide_type": "slide"
    }
   },
   "source": [
    "# 1 seul argument !!\n",
    "\n",
    "<img src=\"captures/cb_darg.png\" style=\"width: 90%;\">\n"
   ]
  },
  {
   "cell_type": "markdown",
   "id": "60db56ea",
   "metadata": {
    "slideshow": {
     "slide_type": "slide"
    }
   },
   "source": [
    "# 🧮 C'est quoi la tokenization ?\n",
    "\n",
    "<div style=\"font-size: 24px;\">  \n",
    "\n",
    "La tokenization, ou lexing, est le processus de décomposition d'une chaîne de caractères (comme du code source) en unités significatives appelées \"tokens\". Chaque token représente un élément syntaxique de la langue, comme un mot-clé, un identifiant, un opérateur, un séparateur...  \n",
    "\n",
    "C'est comme un ft_split où chaque mot est accompagné d'un type !\n",
    "\n",
    "</div>"
   ]
  },
  {
   "cell_type": "markdown",
   "id": "57a2708a",
   "metadata": {
    "slideshow": {
     "slide_type": "slide"
    },
    "vscode": {
     "languageId": "plaintext"
    }
   },
   "source": [
    "## Exemple de structure\n",
    "\n",
    "```c\n",
    "typedef enum type\n",
    "{\n",
    "\tINVALID = 0, // pratique\n",
    "\tWORD, // ls\n",
    "\tPIPE, // '|'\n",
    "\tREDIN, // < input.txt\n",
    "\tHEREDOC, // << DELIMITER\n",
    "\tREDOUT, // > output.txt\n",
    "\tAPPEND, // >> output.txt\n",
    "\tEND\n",
    "}\t\tt_type;\n",
    "\n",
    "typedef struct s_token \n",
    "{\n",
    "  char  *word;   // le texte du token\n",
    "  int   type; // son type\n",
    "}   t_token;\n",
    "```"
   ]
  },
  {
   "cell_type": "markdown",
   "id": "ee6564df",
   "metadata": {
    "slideshow": {
     "slide_type": "slide"
    }
   },
   "source": [
    "# 🛑 Quand est ce qu'un token se termine ?\n",
    "\n",
    "<div style=\"font-size: 28px;\">  \n",
    "\n",
    "```bash\n",
    "echo hell'o w'world\n",
    "```\n",
    "\n",
    "</div>"
   ]
  },
  {
   "cell_type": "markdown",
   "id": "8aaf1657",
   "metadata": {
    "slideshow": {
     "slide_type": "slide"
    }
   },
   "source": [
    "### 🛑 Quand est ce qu'un token se termine ?\n",
    "\n",
    "1. Un espace ou tab hors quote\n",
    "```c\n",
    "if (is_space(current) && !quote)\n",
    "```\n",
    "2. Un symbol hors quote '<' '>' '|' '&' '(' ')' \n",
    "```c\n",
    "if (is_symbol(current) && !quote)\n",
    "```\n",
    "3. Fin de la chaîne de charactère\n",
    "```c\n",
    "if (current == '\\0')\n",
    "```"
   ]
  },
  {
   "cell_type": "markdown",
   "id": "6139f6c2",
   "metadata": {
    "slideshow": {
     "slide_type": "slide"
    }
   },
   "source": [
    "# Pseudo-code pour gérer les quotes 📗\n",
    "\n",
    "<div style=\"font-size: 24px;\">  \n",
    "\n",
    "```c\n",
    "quote = 0; // 0 pour pas de quote\n",
    "\n",
    "while (is_token_end(chr, quote))\n",
    "{\n",
    "    if (quote == 0 && is_quote(chr))\n",
    "        quote = chr; // rentre dans quote\n",
    "    else if (quote != 0 && chr == quote)\n",
    "        quote = 0; // sortie de quote\n",
    "    else\n",
    "    {\n",
    "        // fais tes truc ici\n",
    "    }\n",
    "    chr = next_character();\n",
    "}\n",
    "```\n",
    "\n",
    "</div>"
   ]
  },
  {
   "cell_type": "markdown",
   "id": "e8cfb528",
   "metadata": {
    "slideshow": {
     "slide_type": "slide"
    }
   },
   "source": [
    "### Les redirections\n",
    "\n",
    "<div style=\"font-size: 24px;\">  \n",
    "\n",
    "1. Un redirect peut-être avant ou après ou au milieu de la commande\n",
    "2. Si il y a plusieurs redirections la dernière (la plus à droite) est utilisée\n",
    "\n",
    "</div>\n",
    "\n",
    "![](captures/many_red.png)"
   ]
  },
  {
   "cell_type": "markdown",
   "id": "b95d5f33",
   "metadata": {
    "slideshow": {
     "slide_type": "slide"
    }
   },
   "source": [
    "## Éxecutable et arguments 🐐\n",
    "\n",
    "<div style=\"font-size: 24px;\">  \n",
    "\n",
    "Qu'est ce qui fait la différence entre les deux ?  \n",
    "**C'est l'ordre.**  \n",
    "Les suites de charactères qui ne sont pas des pipes, ni des heredoc, ni des redirections...  \n",
    "sont des *word* !  \n",
    "Le plus à gauche est l'exécutable et les suivants sont les arguments.\n",
    "\n",
    "</div>"
   ]
  },
  {
   "cell_type": "markdown",
   "id": "92f2c520",
   "metadata": {
    "slideshow": {
     "slide_type": "slide"
    }
   },
   "source": [
    "# ENV\n",
    "\n",
    "<div style=\"font-size: 24px;\">  \n",
    "\n",
    "man environ\n",
    "\n",
    "L'environnement (env) est un ensemble de variables et de configurations qui définissent le contexte dans lequel un programme s'exécute.  \n",
    "Il peut inclure des informations comme les chemins d'accès aux bibliothèques, les paramètres de configuration, les variables d'environnement système, etc.\n",
    "\n",
    "</div>"
   ]
  },
  {
   "cell_type": "markdown",
   "id": "50fbebdf",
   "metadata": {
    "slideshow": {
     "slide_type": "slide"
    }
   },
   "source": [
    "# Exemple:\n",
    "\n",
    "<div style=\"font-size: 24px;\">  \n",
    "\n",
    "\n",
    "<span style=\"color:slateblue\">HOME=/home/tgallet</span>\n",
    "\n",
    "<span style=\"color:springGreen\">shell\\></span> echo $HOME  \n",
    "/home/tgallet\n",
    "\n",
    "</div>"
   ]
  },
  {
   "cell_type": "markdown",
   "id": "bb146459",
   "metadata": {
    "slideshow": {
     "slide_type": "slide"
    }
   },
   "source": [
    "## Récuperer l'env\n",
    "\n",
    "<div style=\"font-size: 24px;\">  \n",
    "\n",
    "\n",
    "```c\n",
    "// soit dans la définition du main\n",
    "int main(int argc, char **argv, char **env);\n",
    "// soit #include <unistd.h> pour avoir __environ\n",
    "#include <unistd.h>\n",
    "printf(\"%s\\n\", __environ[0]);\n",
    "```\n",
    "\n",
    "</div>"
   ]
  },
  {
   "cell_type": "markdown",
   "id": "587add90",
   "metadata": {
    "slideshow": {
     "slide_type": "slide"
    },
    "vscode": {
     "languageId": "plaintext"
    }
   },
   "source": [
    "# 🔢 Fonctions requises\n",
    "\n",
    "<div style=\"font-size: 24px;\">  \n",
    "\n",
    "> la clef+valeur est aussi appelé une paire\n",
    "\n",
    "- Supprimer clef+valeur\n",
    "- Ajouter clef+valeur\n",
    "- Modifier clef+valeur\n",
    "(équivalent à supprimer si existe)\n",
    "- Chercher une valeur à partir d'une clef\n",
    "\n",
    "</div>"
   ]
  },
  {
   "cell_type": "markdown",
   "id": "d69d6a51",
   "metadata": {
    "slideshow": {
     "slide_type": "slide"
    }
   },
   "source": [
    "# À noter 📓\n",
    "\n",
    "<div style=\"font-size: 24px;\">  \n",
    "\n",
    "> L'ordre des paires n'est pas important\n",
    "\n",
    "Clefs:\n",
    "- Uniques et commencent par une lettre\n",
    "- Seulement alphanum ou underscore (pas d'espace)\n",
    "- Pas de caractères spéciaux\n",
    "\n",
    "Valeurs:\n",
    "- Les valeurs peuvent être dupliquées\n",
    "- Les clefs sont sensibles à la maj (HOME != home)\n",
    "- Les valeurs peuvent contenir des espaces, caractères spéciaux, etc.\n",
    "\n",
    "</div>"
   ]
  },
  {
   "cell_type": "markdown",
   "id": "438ce9e8",
   "metadata": {
    "slideshow": {
     "slide_type": "slide"
    }
   },
   "source": [
    "# 💯 Conseils\n",
    "\n",
    "<div style=\"font-size: 24px;\">  \n",
    "\n",
    "```c\n",
    "// utiliser une struct\n",
    "typedef struct s_env\n",
    "{\n",
    "    char *key;   // la clef\n",
    "    char *value; // la valeur\n",
    "} t_env;\n",
    "```\n",
    "\n",
    "</div>"
   ]
  },
  {
   "cell_type": "markdown",
   "id": "5c821165",
   "metadata": {
    "slideshow": {
     "slide_type": "slide"
    }
   },
   "source": [
    "# 🪛 L'expansion des words crée des nouveaux tokens\n",
    "\n",
    "<div style=\"font-size: 24px;\">  \n",
    "\n",
    "L'expansion de variable ne peut pas créer de pipe, redirections, heredoc, &&, ||...\n",
    "\n",
    "![](captures/expand_split.png)\n",
    "\n",
    "</div>"
   ]
  },
  {
   "cell_type": "markdown",
   "id": "0f4de6f1",
   "metadata": {
    "slideshow": {
     "slide_type": "slide"
    },
    "vscode": {
     "languageId": "plaintext"
    }
   },
   "source": [
    "# 💯 Conseils\n",
    "\n",
    "<div style=\"font-size: 24px;\">  \n",
    "\n",
    "Utiliser une autres structure de données pour les paires:\n",
    "- Linked List\n",
    "- Dynamic Array\n",
    "- Hash Table (utilisé par Bash)\n",
    "- Binary Search Tree  \n",
    "...\n",
    "\n",
    "</div>"
   ]
  },
  {
   "cell_type": "markdown",
   "id": "3d1648a4",
   "metadata": {
    "slideshow": {
     "slide_type": "skip"
    }
   },
   "source": [
    "# ☄️ Compilation d'infos aléatoires\n",
    "\n",
    "<div style=\"font-size: 24px;\">  \n",
    "\n",
    "- les redirections peuvent se trouver avant/après/au milieu d'args\n",
    "- Après un redirections il peut y avoir 0 ou plusieurs espaces\n",
    "- Chaque redirections doit être \"rempli\"\n",
    "- Les noms de fichiers peuvent contenir des quotes et $VARIABLE \n",
    "- les redirections out '>' et '>>' vole l'output au pipe\n",
    "- multiple redirections:\n",
    "    - les fichiers sont créer/ouvert dans l'ordre\n",
    "    - si une erreur (forbidden, file not found...) -> arrêt + message d'erreur\n",
    "\n",
    "<div style=\"font-size: 24px;\">  \n"
   ]
  }
 ],
 "metadata": {
  "kernelspec": {
   "display_name": "Fun",
   "language": "python",
   "name": "python3"
  },
  "language_info": {
   "codemirror_mode": {
    "name": "ipython",
    "version": 3
   },
   "file_extension": ".py",
   "mimetype": "text/x-python",
   "name": "python",
   "nbconvert_exporter": "python",
   "pygments_lexer": "ipython3",
   "version": "3.12.2"
  }
 },
 "nbformat": 4,
 "nbformat_minor": 5
}
